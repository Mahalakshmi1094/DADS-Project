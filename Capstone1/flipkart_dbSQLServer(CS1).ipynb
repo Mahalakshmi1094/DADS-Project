{
 "cells": [
  {
   "cell_type": "code",
   "execution_count": null,
   "id": "389813e4-2d53-420c-b86b-d9064216d9e3",
   "metadata": {},
   "outputs": [],
   "source": [
    "import pyodbc\n",
    "import pandas as pd\n",
    "\n",
    "# Load dataset\n",
    "df = pd.read_csv(\"C:/Users/thara/OneDrive/Documents/flipkart_project/flipkart_cleaned_dataset.csv\")\n",
    "\n",
    "# Connect to SQL Server\n",
    "conn = pyodbc.connect(\n",
    "    'DRIVER={ODBC Driver 17 for SQL Server};'\n",
    "    'SERVER=localhost;'\n",
    "    'DATABASE=flipkart_data;'\n",
    "    'UID=your_username;'           # Replace with your SQL Server username\n",
    "    'PWD=your_password;'           # Replace with your SQL Server password\n",
    "    'Trusted_Connection=no;'       # Use 'yes' if you're using Windows authentication\n",
    ")\n",
    "\n",
    "cursor = conn.cursor()\n",
    "\n",
    "# Insert rows\n",
    "for _, row in df.iterrows():\n",
    "    cursor.execute(\"\"\"\n",
    "        INSERT INTO flipkart_products \n",
    "        (Product_Name, Product_Description, Product_Reviews, Product_Price, RAM_GB, ROM_GB, Display_Size_Inch, Battery_mAh, Brand)\n",
    "        VALUES (?, ?, ?, ?, ?, ?, ?, ?, ?)\n",
    "    \"\"\", (\n",
    "        row['Product_Name'],\n",
    "        row['Product_Description'],\n",
    "        row['Product_Reviews'],\n",
    "        row['Product_Price'],\n",
    "        row['RAM_(GB)'],\n",
    "        row['ROM_(GB)'],\n",
    "        row['Display_Size_(inch)'],\n",
    "        row['Battery_(mAh)'],\n",
    "        row['Brand']\n",
    "    ))\n",
    "\n",
    "# Commit and close\n",
    "conn.commit()\n",
    "cursor.close()\n",
    "conn.close()\n",
    "\n",
    "print(\"Data successfully inserted into SQL Server flipkart_data database.\")\n"
   ]
  }
 ],
 "metadata": {
  "kernelspec": {
   "display_name": "Python 3 (ipykernel)",
   "language": "python",
   "name": "python3"
  },
  "language_info": {
   "codemirror_mode": {
    "name": "ipython",
    "version": 3
   },
   "file_extension": ".py",
   "mimetype": "text/x-python",
   "name": "python",
   "nbconvert_exporter": "python",
   "pygments_lexer": "ipython3",
   "version": "3.13.5"
  }
 },
 "nbformat": 4,
 "nbformat_minor": 5
}
